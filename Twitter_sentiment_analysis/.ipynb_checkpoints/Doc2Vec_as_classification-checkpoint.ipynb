{
 "cells": [
  {
   "cell_type": "code",
   "execution_count": 1,
   "id": "5b979302",
   "metadata": {},
   "outputs": [
    {
     "name": "stderr",
     "output_type": "stream",
     "text": [
      "/Users/adityasingh/opt/anaconda3/lib/python3.9/site-packages/scipy/__init__.py:146: UserWarning: A NumPy version >=1.16.5 and <1.23.0 is required for this version of SciPy (detected version 1.26.2\n",
      "  warnings.warn(f\"A NumPy version >={np_minversion} and <{np_maxversion}\"\n"
     ]
    }
   ],
   "source": [
    "import pandas as pd\n",
    "import math\n",
    "import numpy as np\n",
    "import matplotlib.pyplot as plt\n",
    "import seaborn as sns\n",
    "import warnings\n",
    "warnings.filterwarnings(\"ignore\")"
   ]
  },
  {
   "cell_type": "code",
   "execution_count": 2,
   "id": "dd55efa3",
   "metadata": {},
   "outputs": [
    {
     "data": {
      "text/html": [
       "<div>\n",
       "<style scoped>\n",
       "    .dataframe tbody tr th:only-of-type {\n",
       "        vertical-align: middle;\n",
       "    }\n",
       "\n",
       "    .dataframe tbody tr th {\n",
       "        vertical-align: top;\n",
       "    }\n",
       "\n",
       "    .dataframe thead th {\n",
       "        text-align: right;\n",
       "    }\n",
       "</style>\n",
       "<table border=\"1\" class=\"dataframe\">\n",
       "  <thead>\n",
       "    <tr style=\"text-align: right;\">\n",
       "      <th></th>\n",
       "      <th>textID</th>\n",
       "      <th>text</th>\n",
       "      <th>selected_text</th>\n",
       "      <th>sentiment</th>\n",
       "      <th>label</th>\n",
       "    </tr>\n",
       "  </thead>\n",
       "  <tbody>\n",
       "    <tr>\n",
       "      <th>0</th>\n",
       "      <td>cb774db0d1</td>\n",
       "      <td>I`d have responded, if I were going</td>\n",
       "      <td>I`d have responded, if I were going</td>\n",
       "      <td>neutral</td>\n",
       "      <td>0</td>\n",
       "    </tr>\n",
       "    <tr>\n",
       "      <th>1</th>\n",
       "      <td>549e992a42</td>\n",
       "      <td>Sooo SAD I will miss you here in San Diego!!!</td>\n",
       "      <td>Sooo SAD</td>\n",
       "      <td>negative</td>\n",
       "      <td>-1</td>\n",
       "    </tr>\n",
       "    <tr>\n",
       "      <th>2</th>\n",
       "      <td>088c60f138</td>\n",
       "      <td>my boss is bullying me...</td>\n",
       "      <td>bullying me</td>\n",
       "      <td>negative</td>\n",
       "      <td>-1</td>\n",
       "    </tr>\n",
       "    <tr>\n",
       "      <th>3</th>\n",
       "      <td>9642c003ef</td>\n",
       "      <td>what interview! leave me alone</td>\n",
       "      <td>leave me alone</td>\n",
       "      <td>negative</td>\n",
       "      <td>-1</td>\n",
       "    </tr>\n",
       "    <tr>\n",
       "      <th>4</th>\n",
       "      <td>358bd9e861</td>\n",
       "      <td>Sons of ****, why couldn`t they put them on t...</td>\n",
       "      <td>Sons of ****,</td>\n",
       "      <td>negative</td>\n",
       "      <td>-1</td>\n",
       "    </tr>\n",
       "  </tbody>\n",
       "</table>\n",
       "</div>"
      ],
      "text/plain": [
       "       textID                                               text  \\\n",
       "0  cb774db0d1                I`d have responded, if I were going   \n",
       "1  549e992a42      Sooo SAD I will miss you here in San Diego!!!   \n",
       "2  088c60f138                          my boss is bullying me...   \n",
       "3  9642c003ef                     what interview! leave me alone   \n",
       "4  358bd9e861   Sons of ****, why couldn`t they put them on t...   \n",
       "\n",
       "                         selected_text sentiment  label  \n",
       "0  I`d have responded, if I were going   neutral      0  \n",
       "1                             Sooo SAD  negative     -1  \n",
       "2                          bullying me  negative     -1  \n",
       "3                       leave me alone  negative     -1  \n",
       "4                        Sons of ****,  negative     -1  "
      ]
     },
     "execution_count": 2,
     "metadata": {},
     "output_type": "execute_result"
    }
   ],
   "source": [
    "# reading the furnished dataset\n",
    "data = pd.read_csv(\"./data/data_clean_in_text.csv\")\n",
    "data.head()"
   ]
  },
  {
   "cell_type": "markdown",
   "id": "bfb243ad",
   "metadata": {},
   "source": [
    "## Doc2Vec model"
   ]
  },
  {
   "cell_type": "markdown",
   "id": "27711e61",
   "metadata": {},
   "source": [
    "In this we will be using Doc2Vec to generate embeddings than rather than using them for recommendation, we will use them for classification using majority vote by the top n similar documents."
   ]
  },
  {
   "cell_type": "markdown",
   "id": "9ff053a5",
   "metadata": {},
   "source": [
    "### Doc2Vec model for all 3 sentiments"
   ]
  },
  {
   "cell_type": "code",
   "execution_count": 3,
   "id": "466b73b0",
   "metadata": {},
   "outputs": [],
   "source": [
    "import gensim\n",
    "from gensim.models.doc2vec import Doc2Vec, TaggedDocument\n",
    "from nltk.tokenize import word_tokenize\n",
    "from gensim.models.doc2vec import Doc2Vec\n",
    "from sklearn.metrics import accuracy_score"
   ]
  },
  {
   "cell_type": "code",
   "execution_count": 4,
   "id": "547a0ff4",
   "metadata": {},
   "outputs": [],
   "source": [
    "# Create TaggedDocument objects\n",
    "tagged_data = [TaggedDocument(words=word_tokenize(_d.lower()), tags=[str(i)]) for i,_d in enumerate(data['text'])]"
   ]
  },
  {
   "cell_type": "code",
   "execution_count": 5,
   "id": "cea078a3",
   "metadata": {},
   "outputs": [
    {
     "data": {
      "text/plain": [
       "TaggedDocument(words=['finally', 'got', 'a', 'call', 'for', 'marriage', 'counseling', '3', 'days', 'late', '....'], tags=['184'])"
      ]
     },
     "execution_count": 5,
     "metadata": {},
     "output_type": "execute_result"
    }
   ],
   "source": [
    "tagged_data[184]"
   ]
  },
  {
   "cell_type": "code",
   "execution_count": 6,
   "id": "39529079",
   "metadata": {},
   "outputs": [],
   "source": [
    "model = gensim.models.doc2vec.Doc2Vec(vector_size=30, min_count=0, epochs=100)"
   ]
  },
  {
   "cell_type": "code",
   "execution_count": 7,
   "id": "66760587",
   "metadata": {},
   "outputs": [],
   "source": [
    "model.build_vocab(tagged_data)"
   ]
  },
  {
   "cell_type": "code",
   "execution_count": 8,
   "id": "a9529d24",
   "metadata": {},
   "outputs": [],
   "source": [
    "model.train(tagged_data, total_examples=model.corpus_count, epochs=100)"
   ]
  },
  {
   "cell_type": "code",
   "execution_count": 9,
   "id": "7d306183",
   "metadata": {},
   "outputs": [
    {
     "name": "stdout",
     "output_type": "stream",
     "text": [
      "Happy Star Wars Day. MAY THE 4TH BE WITH YOU\n",
      "1\n"
     ]
    }
   ],
   "source": [
    "print(data.iloc[7722].text)\n",
    "print(data.iloc[7722].label)"
   ]
  },
  {
   "cell_type": "code",
   "execution_count": 10,
   "id": "b98803fe",
   "metadata": {},
   "outputs": [],
   "source": [
    "similar_doc = model.docvecs.most_similar(\"7722\", topn=5)"
   ]
  },
  {
   "cell_type": "code",
   "execution_count": 11,
   "id": "c6bca514",
   "metadata": {},
   "outputs": [],
   "source": [
    "def getAllVote(similar_doc, printData = False):\n",
    "    vote = {}\n",
    "    for x,y in similar_doc:\n",
    "        xx = int(x)\n",
    "        if printData:\n",
    "            print(f\"Document ID: {xx}, Similarity Score: {y}, Label associated: {data.iloc[xx].label}\")\n",
    "        if data.iloc[xx].label not in vote.keys():\n",
    "            vote[data.iloc[xx].label] = 1\n",
    "        else:\n",
    "            vote[data.iloc[xx].label] = vote[data.iloc[xx].label]+1\n",
    "    return vote"
   ]
  },
  {
   "cell_type": "code",
   "execution_count": 12,
   "id": "8f098c69",
   "metadata": {},
   "outputs": [],
   "source": [
    "def getMaxVoteLabel(m):\n",
    "    max_key = max(m, key=m.get)\n",
    "    return max_key"
   ]
  },
  {
   "cell_type": "code",
   "execution_count": 13,
   "id": "eb286af8",
   "metadata": {},
   "outputs": [
    {
     "name": "stdout",
     "output_type": "stream",
     "text": [
      "Document ID: 8487, Similarity Score: 0.9678317904472351, Label associated: 1\n",
      "Document ID: 22933, Similarity Score: 0.9676925539970398, Label associated: 0\n",
      "Document ID: 17187, Similarity Score: 0.9650979042053223, Label associated: 1\n",
      "Document ID: 18573, Similarity Score: 0.9643941521644592, Label associated: 1\n",
      "Document ID: 13594, Similarity Score: 0.9632465839385986, Label associated: 1\n",
      "{1: 4, 0: 1}\n",
      "Max vote is: 1\n"
     ]
    }
   ],
   "source": [
    "vote = getAllVote(similar_doc, printData = True)\n",
    "print(vote)\n",
    "print(f\"Max vote is: {getMaxVoteLabel(vote)}\")"
   ]
  },
  {
   "cell_type": "markdown",
   "id": "1867f2b9",
   "metadata": {},
   "source": [
    "#### Testing the Doc2Vec model for all 3 sentiments"
   ]
  },
  {
   "cell_type": "code",
   "execution_count": 14,
   "id": "4d226bc9",
   "metadata": {},
   "outputs": [],
   "source": [
    "test_data = pd.read_csv(\"./data/test.csv\")"
   ]
  },
  {
   "cell_type": "code",
   "execution_count": 15,
   "id": "759630b9",
   "metadata": {},
   "outputs": [],
   "source": [
    "# Define the mapping\n",
    "sentiment_mapping = {'positive': 1, 'negative': -1, 'neutral': 0}\n",
    "\n",
    "# Map the values and create a new column\n",
    "test_data['label'] = test_data['sentiment'].map(sentiment_mapping)"
   ]
  },
  {
   "cell_type": "code",
   "execution_count": 16,
   "id": "c1d8bec7",
   "metadata": {},
   "outputs": [
    {
     "data": {
      "text/html": [
       "<div>\n",
       "<style scoped>\n",
       "    .dataframe tbody tr th:only-of-type {\n",
       "        vertical-align: middle;\n",
       "    }\n",
       "\n",
       "    .dataframe tbody tr th {\n",
       "        vertical-align: top;\n",
       "    }\n",
       "\n",
       "    .dataframe thead th {\n",
       "        text-align: right;\n",
       "    }\n",
       "</style>\n",
       "<table border=\"1\" class=\"dataframe\">\n",
       "  <thead>\n",
       "    <tr style=\"text-align: right;\">\n",
       "      <th></th>\n",
       "      <th>textID</th>\n",
       "      <th>text</th>\n",
       "      <th>sentiment</th>\n",
       "      <th>label</th>\n",
       "    </tr>\n",
       "  </thead>\n",
       "  <tbody>\n",
       "    <tr>\n",
       "      <th>0</th>\n",
       "      <td>f87dea47db</td>\n",
       "      <td>Last session of the day  http://twitpic.com/67ezh</td>\n",
       "      <td>neutral</td>\n",
       "      <td>0</td>\n",
       "    </tr>\n",
       "    <tr>\n",
       "      <th>1</th>\n",
       "      <td>96d74cb729</td>\n",
       "      <td>Shanghai is also really exciting (precisely -...</td>\n",
       "      <td>positive</td>\n",
       "      <td>1</td>\n",
       "    </tr>\n",
       "    <tr>\n",
       "      <th>2</th>\n",
       "      <td>eee518ae67</td>\n",
       "      <td>Recession hit Veronique Branquinho, she has to...</td>\n",
       "      <td>negative</td>\n",
       "      <td>-1</td>\n",
       "    </tr>\n",
       "    <tr>\n",
       "      <th>3</th>\n",
       "      <td>01082688c6</td>\n",
       "      <td>happy bday!</td>\n",
       "      <td>positive</td>\n",
       "      <td>1</td>\n",
       "    </tr>\n",
       "    <tr>\n",
       "      <th>4</th>\n",
       "      <td>33987a8ee5</td>\n",
       "      <td>http://twitpic.com/4w75p - I like it!!</td>\n",
       "      <td>positive</td>\n",
       "      <td>1</td>\n",
       "    </tr>\n",
       "    <tr>\n",
       "      <th>...</th>\n",
       "      <td>...</td>\n",
       "      <td>...</td>\n",
       "      <td>...</td>\n",
       "      <td>...</td>\n",
       "    </tr>\n",
       "    <tr>\n",
       "      <th>3529</th>\n",
       "      <td>e5f0e6ef4b</td>\n",
       "      <td>its at 3 am, im very tired but i can`t sleep  ...</td>\n",
       "      <td>negative</td>\n",
       "      <td>-1</td>\n",
       "    </tr>\n",
       "    <tr>\n",
       "      <th>3530</th>\n",
       "      <td>416863ce47</td>\n",
       "      <td>All alone in this old house again.  Thanks for...</td>\n",
       "      <td>positive</td>\n",
       "      <td>1</td>\n",
       "    </tr>\n",
       "    <tr>\n",
       "      <th>3531</th>\n",
       "      <td>6332da480c</td>\n",
       "      <td>I know what you mean. My little dog is sinkin...</td>\n",
       "      <td>negative</td>\n",
       "      <td>-1</td>\n",
       "    </tr>\n",
       "    <tr>\n",
       "      <th>3532</th>\n",
       "      <td>df1baec676</td>\n",
       "      <td>_sutra what is your next youtube video gonna b...</td>\n",
       "      <td>positive</td>\n",
       "      <td>1</td>\n",
       "    </tr>\n",
       "    <tr>\n",
       "      <th>3533</th>\n",
       "      <td>469e15c5a8</td>\n",
       "      <td>http://twitpic.com/4woj2 - omgssh  ang cute n...</td>\n",
       "      <td>positive</td>\n",
       "      <td>1</td>\n",
       "    </tr>\n",
       "  </tbody>\n",
       "</table>\n",
       "<p>3534 rows × 4 columns</p>\n",
       "</div>"
      ],
      "text/plain": [
       "          textID                                               text sentiment  \\\n",
       "0     f87dea47db  Last session of the day  http://twitpic.com/67ezh   neutral   \n",
       "1     96d74cb729   Shanghai is also really exciting (precisely -...  positive   \n",
       "2     eee518ae67  Recession hit Veronique Branquinho, she has to...  negative   \n",
       "3     01082688c6                                        happy bday!  positive   \n",
       "4     33987a8ee5             http://twitpic.com/4w75p - I like it!!  positive   \n",
       "...          ...                                                ...       ...   \n",
       "3529  e5f0e6ef4b  its at 3 am, im very tired but i can`t sleep  ...  negative   \n",
       "3530  416863ce47  All alone in this old house again.  Thanks for...  positive   \n",
       "3531  6332da480c   I know what you mean. My little dog is sinkin...  negative   \n",
       "3532  df1baec676  _sutra what is your next youtube video gonna b...  positive   \n",
       "3533  469e15c5a8   http://twitpic.com/4woj2 - omgssh  ang cute n...  positive   \n",
       "\n",
       "      label  \n",
       "0         0  \n",
       "1         1  \n",
       "2        -1  \n",
       "3         1  \n",
       "4         1  \n",
       "...     ...  \n",
       "3529     -1  \n",
       "3530      1  \n",
       "3531     -1  \n",
       "3532      1  \n",
       "3533      1  \n",
       "\n",
       "[3534 rows x 4 columns]"
      ]
     },
     "execution_count": 16,
     "metadata": {},
     "output_type": "execute_result"
    }
   ],
   "source": [
    "test_data"
   ]
  },
  {
   "cell_type": "code",
   "execution_count": 17,
   "id": "a49db2d5",
   "metadata": {},
   "outputs": [],
   "source": [
    "def getLabelByVoting(x):\n",
    "    text = word_tokenize(x.lower())\n",
    "    vector = model.infer_vector(text)\n",
    "    similar_doc_tags = model.docvecs.similar_by_vector(vector, topn=5)\n",
    "    vote = getAllVote(similar_doc_tags)\n",
    "    return getMaxVoteLabel(vote)"
   ]
  },
  {
   "cell_type": "code",
   "execution_count": 18,
   "id": "58070a45",
   "metadata": {},
   "outputs": [],
   "source": [
    "actual = test_data.label\n",
    "predictions = test_data.text.apply(getLabelByVoting)"
   ]
  },
  {
   "cell_type": "code",
   "execution_count": 19,
   "id": "31d34cc1",
   "metadata": {},
   "outputs": [
    {
     "data": {
      "text/plain": [
       "0.4663271080928127"
      ]
     },
     "execution_count": 19,
     "metadata": {},
     "output_type": "execute_result"
    }
   ],
   "source": [
    "accuracy_score(actual, predictions)"
   ]
  },
  {
   "cell_type": "markdown",
   "id": "0287e666",
   "metadata": {},
   "source": [
    "### Doc2Vec model for only positive and negative sentiments"
   ]
  },
  {
   "cell_type": "code",
   "execution_count": 20,
   "id": "6788aaca",
   "metadata": {},
   "outputs": [],
   "source": [
    "data_pos_neg = data[data.label != 0]"
   ]
  },
  {
   "cell_type": "code",
   "execution_count": 21,
   "id": "04f64371",
   "metadata": {},
   "outputs": [],
   "source": [
    "# Create TaggedDocument objects\n",
    "tagged_data_pos_neg = [TaggedDocument(words=word_tokenize(_d.lower()), tags=[str(i)]) for i,_d in enumerate(data_pos_neg['text'])]"
   ]
  },
  {
   "cell_type": "code",
   "execution_count": 22,
   "id": "262a876f",
   "metadata": {},
   "outputs": [
    {
     "data": {
      "text/plain": [
       "TaggedDocument(words=['before', 'i', 'get', 'too', 'distracted', ',', 'i', '`', 'd', 'like', 'to', 'thank', 'my', 'new', 'followers', 'for', 'taking', 'the', 'trouble', 'to', 'follow', 'me', '!', 'and', 'to', 'my', 'others', ':', 'feelin', 'the', 'love'], tags=['184'])"
      ]
     },
     "execution_count": 22,
     "metadata": {},
     "output_type": "execute_result"
    }
   ],
   "source": [
    "tagged_data_pos_neg[184]"
   ]
  },
  {
   "cell_type": "code",
   "execution_count": 80,
   "id": "75e8f4ab",
   "metadata": {},
   "outputs": [],
   "source": [
    "model_pos_neg = gensim.models.doc2vec.Doc2Vec(vector_size=30, min_count=0, epochs=100)"
   ]
  },
  {
   "cell_type": "code",
   "execution_count": 81,
   "id": "01a09104",
   "metadata": {},
   "outputs": [],
   "source": [
    "model_pos_neg.build_vocab(tagged_data_pos_neg)"
   ]
  },
  {
   "cell_type": "code",
   "execution_count": 82,
   "id": "96a7f058",
   "metadata": {},
   "outputs": [],
   "source": [
    "model_pos_neg.train(tagged_data_pos_neg, total_examples=model_pos_neg.corpus_count, epochs=100)"
   ]
  },
  {
   "cell_type": "code",
   "execution_count": 83,
   "id": "dfad3d8a",
   "metadata": {},
   "outputs": [
    {
     "name": "stdout",
     "output_type": "stream",
     "text": [
      "Refusing to accept that the US holiday is over. Heading to Woodies Longboard  Diner in um ... Hove...\n",
      "-1\n"
     ]
    }
   ],
   "source": [
    "print(data_pos_neg.iloc[7722].text)\n",
    "print(data_pos_neg.iloc[7722].label)"
   ]
  },
  {
   "cell_type": "code",
   "execution_count": 94,
   "id": "6b4dedb2",
   "metadata": {},
   "outputs": [],
   "source": [
    "similar_doc_pos_neg = model_pos_neg.docvecs.most_similar(\"7722\", topn=1)"
   ]
  },
  {
   "cell_type": "code",
   "execution_count": 95,
   "id": "89188984",
   "metadata": {},
   "outputs": [],
   "source": [
    "def getAllVote_pos_neg(similar_doc, printData = False):\n",
    "    vote = {}\n",
    "    for x,y in similar_doc:\n",
    "        xx = int(x)\n",
    "        if printData:\n",
    "            print(f\"Document ID: {xx}, Similarity Score: {y}, Label associated: {data_pos_neg.iloc[xx].label}\")\n",
    "        if data_pos_neg.iloc[xx].label not in vote.keys():\n",
    "            vote[data_pos_neg.iloc[xx].label] = 1\n",
    "        else:\n",
    "            vote[data_pos_neg.iloc[xx].label] = vote[data_pos_neg.iloc[xx].label]+1\n",
    "    return vote"
   ]
  },
  {
   "cell_type": "code",
   "execution_count": 96,
   "id": "53c305d5",
   "metadata": {},
   "outputs": [],
   "source": [
    "def getMaxVoteLabel_pos_neg(m):\n",
    "    max_key = max(m, key=m.get)\n",
    "    return max_key"
   ]
  },
  {
   "cell_type": "code",
   "execution_count": 97,
   "id": "f238a691",
   "metadata": {},
   "outputs": [
    {
     "name": "stdout",
     "output_type": "stream",
     "text": [
      "Document ID: 13026, Similarity Score: 0.7098854184150696, Label associated: -1\n",
      "{-1: 1}\n",
      "Max vote is: -1\n"
     ]
    }
   ],
   "source": [
    "vote_pos_neg = getAllVote_pos_neg(similar_doc_pos_neg, printData = True)\n",
    "print(vote_pos_neg)\n",
    "print(f\"Max vote is: {getMaxVoteLabel(vote_pos_neg)}\")"
   ]
  },
  {
   "cell_type": "markdown",
   "id": "de54081d",
   "metadata": {},
   "source": [
    "#### Testing the Doc2Vec model"
   ]
  },
  {
   "cell_type": "code",
   "execution_count": 98,
   "id": "96f2e8b8",
   "metadata": {},
   "outputs": [],
   "source": [
    "test_data_pos_neg = pd.read_csv(\"./data/test.csv\")"
   ]
  },
  {
   "cell_type": "code",
   "execution_count": 99,
   "id": "161fa614",
   "metadata": {},
   "outputs": [],
   "source": [
    "# Define the mapping\n",
    "sentiment_mapping = {'positive': 1, 'negative': -1, 'neutral': 0}\n",
    "\n",
    "# Map the values and create a new column\n",
    "test_data_pos_neg['label'] = test_data_pos_neg['sentiment'].map(sentiment_mapping)\n",
    "test_data_pos_neg = test_data_pos_neg[test_data_pos_neg.label != 0]"
   ]
  },
  {
   "cell_type": "code",
   "execution_count": 100,
   "id": "8d04136e",
   "metadata": {},
   "outputs": [
    {
     "data": {
      "text/html": [
       "<div>\n",
       "<style scoped>\n",
       "    .dataframe tbody tr th:only-of-type {\n",
       "        vertical-align: middle;\n",
       "    }\n",
       "\n",
       "    .dataframe tbody tr th {\n",
       "        vertical-align: top;\n",
       "    }\n",
       "\n",
       "    .dataframe thead th {\n",
       "        text-align: right;\n",
       "    }\n",
       "</style>\n",
       "<table border=\"1\" class=\"dataframe\">\n",
       "  <thead>\n",
       "    <tr style=\"text-align: right;\">\n",
       "      <th></th>\n",
       "      <th>textID</th>\n",
       "      <th>text</th>\n",
       "      <th>sentiment</th>\n",
       "      <th>label</th>\n",
       "    </tr>\n",
       "  </thead>\n",
       "  <tbody>\n",
       "    <tr>\n",
       "      <th>1</th>\n",
       "      <td>96d74cb729</td>\n",
       "      <td>Shanghai is also really exciting (precisely -...</td>\n",
       "      <td>positive</td>\n",
       "      <td>1</td>\n",
       "    </tr>\n",
       "    <tr>\n",
       "      <th>2</th>\n",
       "      <td>eee518ae67</td>\n",
       "      <td>Recession hit Veronique Branquinho, she has to...</td>\n",
       "      <td>negative</td>\n",
       "      <td>-1</td>\n",
       "    </tr>\n",
       "    <tr>\n",
       "      <th>3</th>\n",
       "      <td>01082688c6</td>\n",
       "      <td>happy bday!</td>\n",
       "      <td>positive</td>\n",
       "      <td>1</td>\n",
       "    </tr>\n",
       "    <tr>\n",
       "      <th>4</th>\n",
       "      <td>33987a8ee5</td>\n",
       "      <td>http://twitpic.com/4w75p - I like it!!</td>\n",
       "      <td>positive</td>\n",
       "      <td>1</td>\n",
       "    </tr>\n",
       "    <tr>\n",
       "      <th>5</th>\n",
       "      <td>726e501993</td>\n",
       "      <td>that`s great!! weee!! visitors!</td>\n",
       "      <td>positive</td>\n",
       "      <td>1</td>\n",
       "    </tr>\n",
       "    <tr>\n",
       "      <th>...</th>\n",
       "      <td>...</td>\n",
       "      <td>...</td>\n",
       "      <td>...</td>\n",
       "      <td>...</td>\n",
       "    </tr>\n",
       "    <tr>\n",
       "      <th>3529</th>\n",
       "      <td>e5f0e6ef4b</td>\n",
       "      <td>its at 3 am, im very tired but i can`t sleep  ...</td>\n",
       "      <td>negative</td>\n",
       "      <td>-1</td>\n",
       "    </tr>\n",
       "    <tr>\n",
       "      <th>3530</th>\n",
       "      <td>416863ce47</td>\n",
       "      <td>All alone in this old house again.  Thanks for...</td>\n",
       "      <td>positive</td>\n",
       "      <td>1</td>\n",
       "    </tr>\n",
       "    <tr>\n",
       "      <th>3531</th>\n",
       "      <td>6332da480c</td>\n",
       "      <td>I know what you mean. My little dog is sinkin...</td>\n",
       "      <td>negative</td>\n",
       "      <td>-1</td>\n",
       "    </tr>\n",
       "    <tr>\n",
       "      <th>3532</th>\n",
       "      <td>df1baec676</td>\n",
       "      <td>_sutra what is your next youtube video gonna b...</td>\n",
       "      <td>positive</td>\n",
       "      <td>1</td>\n",
       "    </tr>\n",
       "    <tr>\n",
       "      <th>3533</th>\n",
       "      <td>469e15c5a8</td>\n",
       "      <td>http://twitpic.com/4woj2 - omgssh  ang cute n...</td>\n",
       "      <td>positive</td>\n",
       "      <td>1</td>\n",
       "    </tr>\n",
       "  </tbody>\n",
       "</table>\n",
       "<p>2104 rows × 4 columns</p>\n",
       "</div>"
      ],
      "text/plain": [
       "          textID                                               text sentiment  \\\n",
       "1     96d74cb729   Shanghai is also really exciting (precisely -...  positive   \n",
       "2     eee518ae67  Recession hit Veronique Branquinho, she has to...  negative   \n",
       "3     01082688c6                                        happy bday!  positive   \n",
       "4     33987a8ee5             http://twitpic.com/4w75p - I like it!!  positive   \n",
       "5     726e501993                    that`s great!! weee!! visitors!  positive   \n",
       "...          ...                                                ...       ...   \n",
       "3529  e5f0e6ef4b  its at 3 am, im very tired but i can`t sleep  ...  negative   \n",
       "3530  416863ce47  All alone in this old house again.  Thanks for...  positive   \n",
       "3531  6332da480c   I know what you mean. My little dog is sinkin...  negative   \n",
       "3532  df1baec676  _sutra what is your next youtube video gonna b...  positive   \n",
       "3533  469e15c5a8   http://twitpic.com/4woj2 - omgssh  ang cute n...  positive   \n",
       "\n",
       "      label  \n",
       "1         1  \n",
       "2        -1  \n",
       "3         1  \n",
       "4         1  \n",
       "5         1  \n",
       "...     ...  \n",
       "3529     -1  \n",
       "3530      1  \n",
       "3531     -1  \n",
       "3532      1  \n",
       "3533      1  \n",
       "\n",
       "[2104 rows x 4 columns]"
      ]
     },
     "execution_count": 100,
     "metadata": {},
     "output_type": "execute_result"
    }
   ],
   "source": [
    "test_data_pos_neg"
   ]
  },
  {
   "cell_type": "code",
   "execution_count": 101,
   "id": "ed64a42f",
   "metadata": {},
   "outputs": [],
   "source": [
    "def getLabelByVoting_pos_neg(x):\n",
    "    text = word_tokenize(x.lower())\n",
    "    vector = model.infer_vector(text)\n",
    "    similar_doc_tags = model.docvecs.similar_by_vector(vector, topn=5)\n",
    "    vote = getAllVote(similar_doc_tags)\n",
    "    return getMaxVoteLabel(vote)"
   ]
  },
  {
   "cell_type": "code",
   "execution_count": 102,
   "id": "ab42d8aa",
   "metadata": {},
   "outputs": [],
   "source": [
    "actual_pos_neg = test_data_pos_neg.label\n",
    "predictions_pos_neg = test_data_pos_neg.text.apply(getLabelByVoting)"
   ]
  },
  {
   "cell_type": "code",
   "execution_count": 103,
   "id": "0bc05dd3",
   "metadata": {},
   "outputs": [
    {
     "data": {
      "text/plain": [
       "0.43155893536121676"
      ]
     },
     "execution_count": 103,
     "metadata": {},
     "output_type": "execute_result"
    }
   ],
   "source": [
    "accuracy_score(actual_pos_neg, predictions_pos_neg)"
   ]
  },
  {
   "cell_type": "markdown",
   "id": "c284e5da",
   "metadata": {},
   "source": [
    "### Conclusion"
   ]
  },
  {
   "cell_type": "markdown",
   "id": "05c3a58b",
   "metadata": {},
   "source": [
    "As we can see from the result, the accuracy is not too good for both the cases.\n",
    "\n",
    "Accuracy for all 3 sentiments: `47.198641765704585%`\n",
    "\n",
    "Accuracy for only positive and negative sentiments: `43.155893536121676%`"
   ]
  },
  {
   "cell_type": "code",
   "execution_count": null,
   "id": "8442fd5c",
   "metadata": {},
   "outputs": [],
   "source": []
  }
 ],
 "metadata": {
  "kernelspec": {
   "display_name": "Python 3 (ipykernel)",
   "language": "python",
   "name": "python3"
  },
  "language_info": {
   "codemirror_mode": {
    "name": "ipython",
    "version": 3
   },
   "file_extension": ".py",
   "mimetype": "text/x-python",
   "name": "python",
   "nbconvert_exporter": "python",
   "pygments_lexer": "ipython3",
   "version": "3.9.7"
  }
 },
 "nbformat": 4,
 "nbformat_minor": 5
}
