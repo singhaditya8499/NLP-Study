{
 "cells": [
  {
   "cell_type": "code",
   "execution_count": 147,
   "id": "8a8db89a",
   "metadata": {},
   "outputs": [],
   "source": [
    "import pandas as pd\n",
    "import numpy as np\n",
    "import matplotlib.pyplot as plt\n",
    "import seaborn as sns\n",
    "from sklearn.model_selection import train_test_split\n",
    "import warnings\n",
    "warnings.filterwarnings(action='ignore')\n",
    "SEED = 2000"
   ]
  },
  {
   "cell_type": "code",
   "execution_count": 93,
   "id": "3b5b6169",
   "metadata": {},
   "outputs": [
    {
     "data": {
      "text/html": [
       "<div>\n",
       "<style scoped>\n",
       "    .dataframe tbody tr th:only-of-type {\n",
       "        vertical-align: middle;\n",
       "    }\n",
       "\n",
       "    .dataframe tbody tr th {\n",
       "        vertical-align: top;\n",
       "    }\n",
       "\n",
       "    .dataframe thead th {\n",
       "        text-align: right;\n",
       "    }\n",
       "</style>\n",
       "<table border=\"1\" class=\"dataframe\">\n",
       "  <thead>\n",
       "    <tr style=\"text-align: right;\">\n",
       "      <th></th>\n",
       "      <th>text</th>\n",
       "      <th>target</th>\n",
       "    </tr>\n",
       "  </thead>\n",
       "  <tbody>\n",
       "    <tr>\n",
       "      <th>0</th>\n",
       "      <td>awww that bummer you shoulda got david carr of...</td>\n",
       "      <td>0</td>\n",
       "    </tr>\n",
       "    <tr>\n",
       "      <th>1</th>\n",
       "      <td>is upset that he can not update his facebook b...</td>\n",
       "      <td>0</td>\n",
       "    </tr>\n",
       "    <tr>\n",
       "      <th>2</th>\n",
       "      <td>dived many times for the ball managed to save ...</td>\n",
       "      <td>0</td>\n",
       "    </tr>\n",
       "    <tr>\n",
       "      <th>3</th>\n",
       "      <td>my whole body feels itchy and like its on fire</td>\n",
       "      <td>0</td>\n",
       "    </tr>\n",
       "    <tr>\n",
       "      <th>4</th>\n",
       "      <td>no it not behaving at all mad why am here beca...</td>\n",
       "      <td>0</td>\n",
       "    </tr>\n",
       "  </tbody>\n",
       "</table>\n",
       "</div>"
      ],
      "text/plain": [
       "                                                text  target\n",
       "0  awww that bummer you shoulda got david carr of...       0\n",
       "1  is upset that he can not update his facebook b...       0\n",
       "2  dived many times for the ball managed to save ...       0\n",
       "3     my whole body feels itchy and like its on fire       0\n",
       "4  no it not behaving at all mad why am here beca...       0"
      ]
     },
     "execution_count": 93,
     "metadata": {},
     "output_type": "execute_result"
    }
   ],
   "source": [
    "data = pd.read_csv(\"../data/clean_tweet.csv\", index_col=0)\n",
    "data.head()"
   ]
  },
  {
   "cell_type": "code",
   "execution_count": 94,
   "id": "e0459191",
   "metadata": {},
   "outputs": [],
   "source": [
    "x = data.text\n",
    "y = data.target"
   ]
  },
  {
   "cell_type": "code",
   "execution_count": 95,
   "id": "92ee1385",
   "metadata": {},
   "outputs": [],
   "source": [
    "x_train, x_validation_test, y_train, y_validation_test = train_test_split(x,y, test_size=0.02, random_state=SEED)"
   ]
  },
  {
   "cell_type": "code",
   "execution_count": 96,
   "id": "f1654776",
   "metadata": {},
   "outputs": [
    {
     "data": {
      "text/plain": [
       "(1564120,)"
      ]
     },
     "execution_count": 96,
     "metadata": {},
     "output_type": "execute_result"
    }
   ],
   "source": [
    "x_train.shape"
   ]
  },
  {
   "cell_type": "code",
   "execution_count": 97,
   "id": "1cfd9f66",
   "metadata": {},
   "outputs": [
    {
     "data": {
      "text/plain": [
       "(31921,)"
      ]
     },
     "execution_count": 97,
     "metadata": {},
     "output_type": "execute_result"
    }
   ],
   "source": [
    "x_validation_test.shape"
   ]
  },
  {
   "cell_type": "code",
   "execution_count": 98,
   "id": "fe3ef48a",
   "metadata": {},
   "outputs": [],
   "source": [
    "x_validation, x_test, y_validation, y_test = train_test_split(x_validation_test, y_validation_test, test_size=0.5, random_state=SEED)"
   ]
  },
  {
   "cell_type": "code",
   "execution_count": 99,
   "id": "06b57d0f",
   "metadata": {},
   "outputs": [
    {
     "name": "stdout",
     "output_type": "stream",
     "text": [
      "Train set has total 1564120 with 50.020139119760636% negative and 0.0% positive\n"
     ]
    }
   ],
   "source": [
    "print(f\"Train set has total {len(x_train)} with {len(x_train[y_train==0])*100/(len(x_train)*1.0)}% negative and {len(x_train[y_train==4])*100/(len(x_train)*1.0)}% positive\")"
   ]
  },
  {
   "cell_type": "code",
   "execution_count": 100,
   "id": "59126b6a",
   "metadata": {},
   "outputs": [
    {
     "name": "stdout",
     "output_type": "stream",
     "text": [
      "Validation set has total 15960 with 49.454887218045116% negative and 0.0% positive\n"
     ]
    }
   ],
   "source": [
    "print(f\"Validation set has total {len(x_validation)} with {len(x_validation[y_validation==0])*100/(len(x_validation)*1.0)}% negative and {len(x_validation[y_validation==4])*100/(len(x_validation)*1.0)}% positive\")"
   ]
  },
  {
   "cell_type": "code",
   "execution_count": 101,
   "id": "57e7e4fc",
   "metadata": {},
   "outputs": [
    {
     "name": "stdout",
     "output_type": "stream",
     "text": [
      "Test set has total 15961 with 49.67733851262452% negative and 0.0% positive\n"
     ]
    }
   ],
   "source": [
    "print(f\"Test set has total {len(x_test)} with {len(x_test[y_test==0])*100/(len(x_test)*1.0)}% negative and {len(x_test[y_test==4])*100/(len(x_test)*1.0)}% positive\")"
   ]
  },
  {
   "cell_type": "markdown",
   "id": "f703139d",
   "metadata": {},
   "source": [
    "### Baseline\n",
    "\n",
    "The basline can be ZeroRule classifier (classifiy the majority class always). That would give an accuracy of 50.02%."
   ]
  },
  {
   "cell_type": "markdown",
   "id": "36abb703",
   "metadata": {},
   "source": [
    "We are using the inbuild sentiment analysis available in `TextBlob` library."
   ]
  },
  {
   "cell_type": "code",
   "execution_count": 102,
   "id": "19494e0a",
   "metadata": {},
   "outputs": [],
   "source": [
    "from textblob import TextBlob\n",
    "from sklearn.metrics import accuracy_score, classification_report, confusion_matrix"
   ]
  },
  {
   "cell_type": "code",
   "execution_count": 103,
   "id": "2a4a4eed",
   "metadata": {},
   "outputs": [],
   "source": [
    "textblob_result = [TextBlob(i).sentiment_assessments for i in x_validation]"
   ]
  },
  {
   "cell_type": "code",
   "execution_count": 104,
   "id": "0f1600a1",
   "metadata": {},
   "outputs": [
    {
     "data": {
      "text/plain": [
       "Sentiment(polarity=0.0, subjectivity=0.06666666666666667, assessments=[(['last'], 0.0, 0.06666666666666667, None)])"
      ]
     },
     "execution_count": 104,
     "metadata": {},
     "output_type": "execute_result"
    }
   ],
   "source": [
    "textblob_result[0]"
   ]
  },
  {
   "cell_type": "code",
   "execution_count": 105,
   "id": "a4cbea9e",
   "metadata": {},
   "outputs": [],
   "source": [
    "textblob_predictions = [0 if n.polarity < 0 else 1 for n in textblob_result]"
   ]
  },
  {
   "cell_type": "code",
   "execution_count": 106,
   "id": "29691fa9",
   "metadata": {},
   "outputs": [
    {
     "data": {
      "text/plain": [
       "pandas.core.series.Series"
      ]
     },
     "execution_count": 106,
     "metadata": {},
     "output_type": "execute_result"
    }
   ],
   "source": [
    "type(y_validation)"
   ]
  },
  {
   "cell_type": "code",
   "execution_count": 118,
   "id": "cfe98bb1",
   "metadata": {},
   "outputs": [],
   "source": [
    "confusion_mat = confusion_matrix(y_validation, textblob_predictions, labels=[1,0])\n",
    "confusion_df = pd.DataFrame(confusion_mat, index=['positive', 'negative'], columns=['predicted_positive', 'predicted_negative'])"
   ]
  },
  {
   "cell_type": "code",
   "execution_count": 119,
   "id": "61ebab61",
   "metadata": {},
   "outputs": [
    {
     "name": "stdout",
     "output_type": "stream",
     "text": [
      "Accuracy score is 61.83583959899749\n",
      "--------------------------------------------------------------------------------\n",
      "Confusion Matrix\n",
      "\n",
      "          predicted_positive  predicted_negative\n",
      "positive                7282                 785\n",
      "negative                5306                2587\n",
      "--------------------------------------------------------------------------------\n",
      "Classification Report\n",
      "\n",
      "              precision    recall  f1-score   support\n",
      "\n",
      "           0       0.77      0.33      0.46      7893\n",
      "           1       0.58      0.90      0.71      8067\n",
      "\n",
      "    accuracy                           0.62     15960\n",
      "   macro avg       0.67      0.62      0.58     15960\n",
      "weighted avg       0.67      0.62      0.58     15960\n",
      "\n"
     ]
    }
   ],
   "source": [
    "print(f\"Accuracy score is {accuracy_score(y_validation, textblob_predictions)*100.0}\")\n",
    "print(\"-\"*80)\n",
    "print(\"Confusion Matrix\\n\")\n",
    "print(confusion_df)\n",
    "print(\"-\"*80)\n",
    "print(\"Classification Report\\n\")\n",
    "print(classification_report(y_validation, textblob_predictions))"
   ]
  },
  {
   "cell_type": "markdown",
   "id": "12ada6e9",
   "metadata": {},
   "source": [
    "### Count vectorizer"
   ]
  },
  {
   "cell_type": "code",
   "execution_count": 120,
   "id": "32691739",
   "metadata": {},
   "outputs": [],
   "source": [
    "from sklearn.feature_extraction.text import CountVectorizer\n",
    "from sklearn.linear_model import LogisticRegression\n",
    "from sklearn.pipeline import Pipeline\n",
    "from time import time"
   ]
  },
  {
   "cell_type": "code",
   "execution_count": 157,
   "id": "98f5eac9",
   "metadata": {},
   "outputs": [],
   "source": [
    "def accuracy_summary(pipeline, x_train, y_train, x_test, y_test):\n",
    "    best_guess = 0.0\n",
    "    if len(x_train[y_train == 0])*1.0/len(x_train) > 0.5:\n",
    "        best_guess = len(x_test[y_test==0])*1.0/len(x_test)\n",
    "    else:\n",
    "        best_guess = 1.0 - len(x_test[y_test==0])*1.0/len(x_test)\n",
    "        \n",
    "    starttime = time()\n",
    "    sentiment_fit = pipeline.fit(x_train, y_train)\n",
    "    y_pred = sentiment_fit.predict(x_test)\n",
    "    endtime = time()\n",
    "    accuracy = accuracy_score(y_test, y_pred)\n",
    "    print(f\"Best guess accuracy is {best_guess*100.0}%\")\n",
    "    print(f\"Accuracy for the passed model (linear regression) is {accuracy*100.0}%\")\n",
    "    if accuracy > best_guess:\n",
    "        print(f\"The passed model is more accuracte than best guess by {(accuracy-best_guess)*100.0}%\")\n",
    "    elif accuracy == best_guess:\n",
    "        print(f\"The passed model gives same accuracy as best guess, {(accuracy*100.0)}\")\n",
    "    else:\n",
    "        print(f\"The best guess accuracy is more than model accuracy by {(best_guess-accuracy)*100.0}%\")\n",
    "        \n",
    "    print(f\"The total train and test time is {endtime-starttime}\")\n",
    "    print(\"--\"*40)\n",
    "    return accuracy, endtime-starttime"
   ]
  },
  {
   "cell_type": "code",
   "execution_count": 158,
   "id": "ac3d266a",
   "metadata": {},
   "outputs": [],
   "source": [
    "cvec = CountVectorizer()\n",
    "lr = LogisticRegression()\n",
    "n_features = np.arange(10000, 100001, 10000)"
   ]
  },
  {
   "cell_type": "code",
   "execution_count": 159,
   "id": "acd27239",
   "metadata": {},
   "outputs": [],
   "source": [
    "def nfeature_accuracy_checker(vectorizer = cvec, n_features=n_features, stop_words = None, ngram_range=(1,1), classifier=lr):\n",
    "    result = []\n",
    "    print(classifier)\n",
    "    print(\"\\n\")\n",
    "    for n in n_features:\n",
    "        vectorizer.set_params(stop_words=stop_words, max_features=n, ngram_range=ngram_range)\n",
    "        checker_pipeline = Pipeline([\n",
    "            ('vectorizer', vectorizer),\n",
    "            ('classifier', classifier)\n",
    "        ])\n",
    "        print(f\"Validation result for {n} features\")\n",
    "        n_feature_accuracy, total_time = accuracy_summary(checker_pipeline, x_train, y_train, x_test, y_test)\n",
    "        result.append((n,n_feature_accuracy, total_time))\n",
    "    return result"
   ]
  },
  {
   "cell_type": "code",
   "execution_count": 161,
   "id": "ceb8319b",
   "metadata": {},
   "outputs": [
    {
     "data": {
      "text/html": [
       "<div>\n",
       "<style scoped>\n",
       "    .dataframe tbody tr th:only-of-type {\n",
       "        vertical-align: middle;\n",
       "    }\n",
       "\n",
       "    .dataframe tbody tr th {\n",
       "        vertical-align: top;\n",
       "    }\n",
       "\n",
       "    .dataframe thead th {\n",
       "        text-align: right;\n",
       "    }\n",
       "</style>\n",
       "<table border=\"1\" class=\"dataframe\">\n",
       "  <thead>\n",
       "    <tr style=\"text-align: right;\">\n",
       "      <th></th>\n",
       "      <th>neg</th>\n",
       "      <th>pos</th>\n",
       "      <th>total</th>\n",
       "    </tr>\n",
       "  </thead>\n",
       "  <tbody>\n",
       "    <tr>\n",
       "      <th>to</th>\n",
       "      <td>313162</td>\n",
       "      <td>252567</td>\n",
       "      <td>565729</td>\n",
       "    </tr>\n",
       "    <tr>\n",
       "      <th>the</th>\n",
       "      <td>257836</td>\n",
       "      <td>265998</td>\n",
       "      <td>523834</td>\n",
       "    </tr>\n",
       "    <tr>\n",
       "      <th>my</th>\n",
       "      <td>190775</td>\n",
       "      <td>125955</td>\n",
       "      <td>316730</td>\n",
       "    </tr>\n",
       "    <tr>\n",
       "      <th>it</th>\n",
       "      <td>157448</td>\n",
       "      <td>147786</td>\n",
       "      <td>305234</td>\n",
       "    </tr>\n",
       "    <tr>\n",
       "      <th>and</th>\n",
       "      <td>153958</td>\n",
       "      <td>149642</td>\n",
       "      <td>303600</td>\n",
       "    </tr>\n",
       "    <tr>\n",
       "      <th>you</th>\n",
       "      <td>103844</td>\n",
       "      <td>198245</td>\n",
       "      <td>302089</td>\n",
       "    </tr>\n",
       "    <tr>\n",
       "      <th>not</th>\n",
       "      <td>194724</td>\n",
       "      <td>86861</td>\n",
       "      <td>281585</td>\n",
       "    </tr>\n",
       "    <tr>\n",
       "      <th>is</th>\n",
       "      <td>133432</td>\n",
       "      <td>111191</td>\n",
       "      <td>244623</td>\n",
       "    </tr>\n",
       "    <tr>\n",
       "      <th>in</th>\n",
       "      <td>115542</td>\n",
       "      <td>101160</td>\n",
       "      <td>216702</td>\n",
       "    </tr>\n",
       "    <tr>\n",
       "      <th>for</th>\n",
       "      <td>98999</td>\n",
       "      <td>117369</td>\n",
       "      <td>216368</td>\n",
       "    </tr>\n",
       "  </tbody>\n",
       "</table>\n",
       "</div>"
      ],
      "text/plain": [
       "        neg     pos   total\n",
       "to   313162  252567  565729\n",
       "the  257836  265998  523834\n",
       "my   190775  125955  316730\n",
       "it   157448  147786  305234\n",
       "and  153958  149642  303600\n",
       "you  103844  198245  302089\n",
       "not  194724   86861  281585\n",
       "is   133432  111191  244623\n",
       "in   115542  101160  216702\n",
       "for   98999  117369  216368"
      ]
     },
     "execution_count": 161,
     "metadata": {},
     "output_type": "execute_result"
    }
   ],
   "source": [
    "csv = '../data/term_freq_df.csv'\n",
    "term_freq_df = pd.read_csv(csv, index_col=0)\n",
    "term_freq_df.sort_values(by='total', ascending=False).iloc[:10]"
   ]
  },
  {
   "cell_type": "code",
   "execution_count": 162,
   "id": "d74b9312",
   "metadata": {},
   "outputs": [
    {
     "data": {
      "text/plain": [
       "True"
      ]
     },
     "execution_count": 162,
     "metadata": {},
     "output_type": "execute_result"
    }
   ],
   "source": [
    "from sklearn.feature_extraction import text\n",
    "a = frozenset(list(term_freq_df.sort_values(by='total', ascending=False).iloc[:10].index))\n",
    "b = text.ENGLISH_STOP_WORDS\n",
    "set(a).issubset(set(b))"
   ]
  },
  {
   "cell_type": "code",
   "execution_count": 167,
   "id": "21e65abb",
   "metadata": {},
   "outputs": [],
   "source": [
    "my_stop_words = frozenset(list(term_freq_df.sort_values(by='total', ascending=False).iloc[:10].index))\n",
    "my_stop_words = list(my_stop_words)"
   ]
  },
  {
   "cell_type": "code",
   "execution_count": null,
   "id": "89e21b56",
   "metadata": {
    "scrolled": true
   },
   "outputs": [],
   "source": [
    "print(\"Result for Unigram without stop words\\n\")\n",
    "feature_result_wosw = nfeature_accuracy_checker(stop_words='english')\n",
    "\n",
    "print(\"Result for Unigram with stop words\\n\")\n",
    "feature_result_wsw = nfeature_accuracy_checker()\n",
    "\n",
    "print(\"Result for Unigram with my top 10 stop words\\n\")\n",
    "feature_result_wocsw = nfeature_accuracy_checker(stop_words=my_stop_words)"
   ]
  },
  {
   "cell_type": "code",
   "execution_count": 172,
   "id": "0979d32b",
   "metadata": {},
   "outputs": [],
   "source": [
    "feature_result_wsw_df = pd.DataFrame(feature_result_wsw, columns=['n_features', 'validation_accuracy', 'test_train_time'])\n",
    "feature_result_wosw_df = pd.DataFrame(feature_result_wosw, columns=['n_features', 'validation_accuracy', 'test_train_time'])\n",
    "feature_result_wocsw_df = pd.DataFrame(feature_result_wocsw, columns=['n_features', 'validation_accuracy', 'test_train_time'])"
   ]
  },
  {
   "cell_type": "code",
   "execution_count": 179,
   "id": "272ba558",
   "metadata": {},
   "outputs": [
    {
     "data": {
      "image/png": "[encoded data removed]",
      "text/plain": [
       "<Figure size 576x432 with 1 Axes>"
      ]
     },
     "metadata": {
      "needs_background": "light"
     },
     "output_type": "display_data"
    }
   ],
   "source": [
    "plt.figure(figsize=(8,6))\n",
    "plt.plot(feature_result_wsw_df.n_features, feature_result_wsw_df.validation_accuracy, label='with stop words')\n",
    "plt.plot(feature_result_wosw_df.n_features, feature_result_wosw_df.validation_accuracy, label='without stop words')\n",
    "plt.plot(feature_result_wocsw_df.n_features, feature_result_wocsw_df.validation_accuracy, label='without custom stop words')\n",
    "plt.title(\"With stop words vs Without stop words vs Without custom stop words\")\n",
    "plt.xlabel(\"Number of features\")\n",
    "plt.ylabel(\"Validation set accuracy\")\n",
    "plt.legend()\n",
    "plt.grid(True)\n",
    "plt.show()"
   ]
  },
  {
   "cell_type": "code",
   "execution_count": null,
   "id": "fa9a288c",
   "metadata": {
    "scrolled": true
   },
   "outputs": [],
   "source": [
    "print(\"Result for Bigram with stop words\\n\")\n",
    "feature_result_bg = nfeature_accuracy_checker(ngram_range=(1,2))\n",
    "\n",
    "print(\"Result for Trigram with stop words\\n\")\n",
    "feature_result_tg = nfeature_accuracy_checker(ngram_range=(1,3))"
   ]
  },
  {
   "cell_type": "code",
   "execution_count": 183,
   "id": "36e4d4d1",
   "metadata": {},
   "outputs": [],
   "source": [
    "feature_result_bg_df = pd.DataFrame(feature_result_bg, columns=['n_features', 'validation_accuracy', 'test_train_time'])\n",
    "feature_result_tg_df = pd.DataFrame(feature_result_tg, columns=['n_features', 'validation_accuracy', 'test_train_time'])"
   ]
  },
  {
   "cell_type": "code",
   "execution_count": 184,
   "id": "7c268f65",
   "metadata": {},
   "outputs": [
    {
     "data": {
      "image/png": "[encoded data removed]",
      "text/plain": [
       "<Figure size 576x432 with 1 Axes>"
      ]
     },
     "metadata": {
      "needs_background": "light"
     },
     "output_type": "display_data"
    }
   ],
   "source": [
    "plt.figure(figsize=(8,6))\n",
    "plt.plot(feature_result_wsw_df.n_features, feature_result_wsw_df.validation_accuracy, label='unigram')\n",
    "plt.plot(feature_result_bg_df.n_features, feature_result_bg_df.validation_accuracy, label='bigram')\n",
    "plt.plot(feature_result_tg_df.n_features, feature_result_tg_df.validation_accuracy, label='trigram')\n",
    "plt.title(\"Unigram vs Bigram vs Trigram (with stop words)\")\n",
    "plt.xlabel(\"Number of features\")\n",
    "plt.ylabel(\"Validation set accuracy\")\n",
    "plt.legend()\n",
    "plt.grid(True)\n",
    "plt.show()"
   ]
  },
  {
   "cell_type": "markdown",
   "id": "15da6a75",
   "metadata": {},
   "source": [
    "What exactly is precision and recall?\n",
    "\n",
    "If the class distribution is equal than accuracy might be able to give an actual prediction of the model. When the distribution is not same, then it will not.\n",
    "\n",
    "In case of skewed distrbution, its better to look at other evalutaion metrics.\n",
    "\n",
    "Precision  -> what proportion of data predicted as postitive actually is positive TP/(TP+FP)\n",
    "Recall -> what proportion of data that actually is positive were predicted position TP/(TP+FN)\n",
    "F1 -> harmonic mean of precision and recall 2*P*R/(P+R)"
   ]
  },
  {
   "cell_type": "code",
   "execution_count": 191,
   "id": "55f7255c",
   "metadata": {},
   "outputs": [],
   "source": [
    "def train_test_and_evaluate(pipeline, x_train, y_train, x_test, y_test):\n",
    "    best_guess = 0.0\n",
    "    if len(x_test[y_test == 0]) / (len(x_test)*1.) > 0.5:\n",
    "        best_guess = len(x_test[y_test == 0]) / (len(x_test)*1.)\n",
    "    else:\n",
    "        best_guess = 1. - (len(x_test[y_test == 0]) / (len(x_test)*1.))\n",
    "    sentiment_fit = pipeline.fit(x_train, y_train)\n",
    "    y_pred = sentiment_fit.predict(x_test)\n",
    "    accuracy = accuracy_score(y_test, y_pred)\n",
    "    conmat = np.array(confusion_matrix(y_test, y_pred, labels=[0,1]))\n",
    "    confusion = pd.DataFrame(conmat, index=['negative', 'positive'],\n",
    "                         columns=['predicted_negative','predicted_positive'])\n",
    "    print(\"Best guess accuracy: {0:.2f}%\".format(best_guess*100))\n",
    "    print(\"accuracy score: {0:.2f}%\".format(accuracy*100))\n",
    "    if accuracy > best_guess:\n",
    "        print(\"model is {0:.2f}% more accurate than best guess accuracy\".format((accuracy-best_guess)*100))\n",
    "    elif accuracy == best_guess:\n",
    "        print(\"model has the same accuracy with the best guess accuracy\")\n",
    "    else:\n",
    "        print(\"model is {0:.2f}% less accurate than best guess accuracy\".format((best_guess-accuracy)*100))\n",
    "    print(\"-\"*80)\n",
    "    print(\"Confusion Matrix\\n\")\n",
    "    print(confusion)\n",
    "    print(\"-\"*80)\n",
    "    print(\"Classification Report\\n\")\n",
    "    print(classification_report(y_test, y_pred, target_names=['negative','positive']))"
   ]
  },
  {
   "cell_type": "code",
   "execution_count": 192,
   "id": "76037a90",
   "metadata": {},
   "outputs": [
    {
     "name": "stdout",
     "output_type": "stream",
     "text": [
      "Best guess accuracy: 50.55%\n",
      "accuracy score: 82.38%\n",
      "model is 31.84% more accurate than best guess accuracy\n",
      "--------------------------------------------------------------------------------\n",
      "Confusion Matrix\n",
      "\n",
      "          predicted_negative  predicted_positive\n",
      "negative                6331                1562\n",
      "positive                1250                6817\n",
      "--------------------------------------------------------------------------------\n",
      "Classification Report\n",
      "\n",
      "              precision    recall  f1-score   support\n",
      "\n",
      "    negative       0.84      0.80      0.82      7893\n",
      "    positive       0.81      0.85      0.83      8067\n",
      "\n",
      "    accuracy                           0.82     15960\n",
      "   macro avg       0.82      0.82      0.82     15960\n",
      "weighted avg       0.82      0.82      0.82     15960\n",
      "\n",
      "CPU times: user 4min 24s, sys: 15.7 s, total: 4min 40s\n",
      "Wall time: 3min 13s\n"
     ]
    }
   ],
   "source": [
    "%%time\n",
    "tg_cvec = CountVectorizer(max_features=80000,ngram_range=(1, 3))\n",
    "tg_pipeline = Pipeline([\n",
    "        ('vectorizer', tg_cvec),\n",
    "        ('classifier', lr)\n",
    "    ])\n",
    "train_test_and_evaluate(tg_pipeline, x_train, y_train, x_validation, y_validation)"
   ]
  },
  {
   "cell_type": "code",
   "execution_count": 193,
   "id": "a8f0c596",
   "metadata": {},
   "outputs": [],
   "source": [
    "from sklearn.feature_extraction.text import TfidfVectorizer\n",
    "tvec = TfidfVectorizer()"
   ]
  },
  {
   "cell_type": "code",
   "execution_count": null,
   "id": "d5d6916d",
   "metadata": {
    "scrolled": true
   },
   "outputs": [],
   "source": [
    "print(\"Result for unigram model with TF-IDF vectorizer\\n\")\n",
    "feature_result_tf = nfeature_accuracy_checker(vectorizer=tvec)\n",
    "\n",
    "print(\"Result for bigram model with TF-IDF vectorizer\\n\")\n",
    "feature_result_tf_bg = nfeature_accuracy_checker(vectorizer=tvec, ngram_range=(1,2))\n",
    "\n",
    "print(\"Result for trigram model with TF-IDF vectorizer\\n\")\n",
    "feature_result_tf_tg = nfeature_accuracy_checker(vectorizer=tvec, ngram_range=(1,3))"
   ]
  },
  {
   "cell_type": "code",
   "execution_count": 195,
   "id": "c4637d3f",
   "metadata": {},
   "outputs": [],
   "source": [
    "feature_result_tf_df = pd.DataFrame(feature_result_tf, columns=['n_features', 'validation_accuracy', 'test_train_time'])\n",
    "feature_result_tf_bg_df = pd.DataFrame(feature_result_tf_bg, columns=['n_features', 'validation_accuracy', 'test_train_time'])\n",
    "feature_result_tf_tg_df = pd.DataFrame(feature_result_tf_tg, columns=['n_features', 'validation_accuracy', 'test_train_time'])"
   ]
  },
  {
   "cell_type": "code",
   "execution_count": 199,
   "id": "2d96b8b8",
   "metadata": {},
   "outputs": [
    {
     "data": {
      "image/png": "[encoded data removed]",
      "text/plain": [
       "<Figure size 576x432 with 1 Axes>"
      ]
     },
     "metadata": {
      "needs_background": "light"
     },
     "output_type": "display_data"
    }
   ],
   "source": [
    "plt.figure(figsize=(8,6))\n",
    "plt.plot(feature_result_wsw_df.n_features, feature_result_wsw_df.validation_accuracy, label='unigram count vectorizer', linestyle=':', color='royalblue')\n",
    "plt.plot(feature_result_bg_df.n_features, feature_result_bg_df.validation_accuracy, label='bigram count vectorizer', linestyle=':', color='gold')\n",
    "plt.plot(feature_result_tg_df.n_features, feature_result_tg_df.validation_accuracy, label='trigram count vectorizer', linestyle=':', color='red')\n",
    "plt.plot(feature_result_tf_df.n_features, feature_result_tf_df.validation_accuracy, label='unigram tfidf vectorizer', color='royalblue')\n",
    "plt.plot(feature_result_tf_bg_df.n_features, feature_result_tf_bg_df.validation_accuracy, label='bigram tfidf vectorizer', color='gold')\n",
    "plt.plot(feature_result_tf_tg_df.n_features, feature_result_tf_tg_df.validation_accuracy, label='trigram tfidf vectorizer', color='red')\n",
    "plt.title(\"ngram (1 to 3) accuracy for test data\")\n",
    "plt.xlabel(\"Number of features\")\n",
    "plt.ylabel(\"Validation set accuracy\")\n",
    "plt.legend()\n",
    "plt.grid(True)\n",
    "plt.show()"
   ]
  },
  {
   "cell_type": "code",
   "execution_count": null,
   "id": "6323065e",
   "metadata": {},
   "outputs": [],
   "source": []
  }
 ],
 "metadata": {
  "kernelspec": {
   "display_name": "Python 3 (ipykernel)",
   "language": "python",
   "name": "python3"
  },
  "language_info": {
   "codemirror_mode": {
    "name": "ipython",
    "version": 3
   },
   "file_extension": ".py",
   "mimetype": "text/x-python",
   "name": "python",
   "nbconvert_exporter": "python",
   "pygments_lexer": "ipython3",
   "version": "3.9.7"
  }
 },
 "nbformat": 4,
 "nbformat_minor": 5
}
