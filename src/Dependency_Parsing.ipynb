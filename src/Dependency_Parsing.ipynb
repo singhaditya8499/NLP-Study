{
 "cells": [
  {
   "cell_type": "markdown",
   "id": "06f816c1",
   "metadata": {},
   "source": [
    "### What is Dependency Parsing?\n",
    "\n",
    "Dependency Parsing is the process to analyze the grammatical structure in a sentence and find out related words as well as the type of the relationship between them.\n",
    "\n",
    "Each relationship:\n",
    "\n",
    "1. Has one head and a dependent that modifies the head.\n",
    "2. Is labeled according to the nature of the dependency between the head and the dependent. These labels can be found at https://universaldependencies.org/u/dep/\n",
    "\n",
    "\n",
    "Source: https://towardsdatascience.com/natural-language-processing-dependency-parsing-cf094bbbe3f7"
   ]
  },
  {
   "cell_type": "markdown",
   "id": "72007942",
   "metadata": {},
   "source": [
    "There are different ways to do dependency parsing. The main 3 ways are:\n",
    "\n",
    "1. Using spaCy library\n",
    "2. Using standard nltk with standard Stanford CoreNLP\n",
    "3. Using stanza"
   ]
  },
  {
   "cell_type": "markdown",
   "id": "b892954a",
   "metadata": {},
   "source": [
    "#### Using spaCy"
   ]
  },
  {
   "cell_type": "code",
   "execution_count": 1,
   "id": "a9459c05",
   "metadata": {},
   "outputs": [],
   "source": [
    "import spacy\n",
    "from spacy import displacy"
   ]
  },
  {
   "cell_type": "code",
   "execution_count": 3,
   "id": "bf92eda0",
   "metadata": {},
   "outputs": [],
   "source": [
    "nlp = spacy.load(\"en_core_web_sm\")"
   ]
  },
  {
   "cell_type": "code",
   "execution_count": 5,
   "id": "bd530772",
   "metadata": {},
   "outputs": [],
   "source": [
    "sentence = \"The llama couldn't resist trying the lemonade.\""
   ]
  },
  {
   "cell_type": "code",
   "execution_count": 6,
   "id": "6a802697",
   "metadata": {},
   "outputs": [],
   "source": [
    "doc = nlp(sentence)"
   ]
  },
  {
   "cell_type": "code",
   "execution_count": 12,
   "id": "eaf2f16f",
   "metadata": {},
   "outputs": [
    {
     "name": "stdout",
     "output_type": "stream",
     "text": [
      "Token           | Relation | Head            | Children            \n",
      "----------------------------------------------------------------------\n",
      "The             | det      | llama           | []                  \n",
      "llama           | nsubj    | resist          | [The]               \n",
      "could           | aux      | resist          | []                  \n",
      "n't             | neg      | resist          | []                  \n",
      "resist          | ROOT     | resist          | [llama, could, n't, trying, .]\n",
      "trying          | xcomp    | resist          | [lemonade]          \n",
      "the             | det      | lemonade        | []                  \n",
      "lemonade        | dobj     | trying          | [the]               \n",
      ".               | punct    | resist          | []                  \n"
     ]
    },
    {
     "data": {
      "text/html": [
       "<span class=\"tex2jax_ignore\"><svg xmlns=\"http://www.w3.org/2000/svg\" xmlns:xlink=\"http://www.w3.org/1999/xlink\" xml:lang=\"en\" id=\"cb8cfa0c6b4246409e0a62484d09c3c1-0\" class=\"displacy\" width=\"1010\" height=\"317.0\" direction=\"ltr\" style=\"max-width: none; height: 317.0px; color: #000000; background: #ffffff; font-family: Arial; direction: ltr\">\n",
       "<text class=\"displacy-token\" fill=\"currentColor\" text-anchor=\"middle\" y=\"227.0\">\n",
       "    <tspan class=\"displacy-word\" fill=\"currentColor\" x=\"50\">The</tspan>\n",
       "    <tspan class=\"displacy-tag\" dy=\"2em\" fill=\"currentColor\" x=\"50\">DET</tspan>\n",
       "</text>\n",
       "\n",
       "<text class=\"displacy-token\" fill=\"currentColor\" text-anchor=\"middle\" y=\"227.0\">\n",
       "    <tspan class=\"displacy-word\" fill=\"currentColor\" x=\"170\">llama</tspan>\n",
       "    <tspan class=\"displacy-tag\" dy=\"2em\" fill=\"currentColor\" x=\"170\">NOUN</tspan>\n",
       "</text>\n",
       "\n",
       "<text class=\"displacy-token\" fill=\"currentColor\" text-anchor=\"middle\" y=\"227.0\">\n",
       "    <tspan class=\"displacy-word\" fill=\"currentColor\" x=\"290\">could</tspan>\n",
       "    <tspan class=\"displacy-tag\" dy=\"2em\" fill=\"currentColor\" x=\"290\">AUX</tspan>\n",
       "</text>\n",
       "\n",
       "<text class=\"displacy-token\" fill=\"currentColor\" text-anchor=\"middle\" y=\"227.0\">\n",
       "    <tspan class=\"displacy-word\" fill=\"currentColor\" x=\"410\">n't</tspan>\n",
       "    <tspan class=\"displacy-tag\" dy=\"2em\" fill=\"currentColor\" x=\"410\">PART</tspan>\n",
       "</text>\n",
       "\n",
       "<text class=\"displacy-token\" fill=\"currentColor\" text-anchor=\"middle\" y=\"227.0\">\n",
       "    <tspan class=\"displacy-word\" fill=\"currentColor\" x=\"530\">resist</tspan>\n",
       "    <tspan class=\"displacy-tag\" dy=\"2em\" fill=\"currentColor\" x=\"530\">VERB</tspan>\n",
       "</text>\n",
       "\n",
       "<text class=\"displacy-token\" fill=\"currentColor\" text-anchor=\"middle\" y=\"227.0\">\n",
       "    <tspan class=\"displacy-word\" fill=\"currentColor\" x=\"650\">trying</tspan>\n",
       "    <tspan class=\"displacy-tag\" dy=\"2em\" fill=\"currentColor\" x=\"650\">VERB</tspan>\n",
       "</text>\n",
       "\n",
       "<text class=\"displacy-token\" fill=\"currentColor\" text-anchor=\"middle\" y=\"227.0\">\n",
       "    <tspan class=\"displacy-word\" fill=\"currentColor\" x=\"770\">the</tspan>\n",
       "    <tspan class=\"displacy-tag\" dy=\"2em\" fill=\"currentColor\" x=\"770\">DET</tspan>\n",
       "</text>\n",
       "\n",
       "<text class=\"displacy-token\" fill=\"currentColor\" text-anchor=\"middle\" y=\"227.0\">\n",
       "    <tspan class=\"displacy-word\" fill=\"currentColor\" x=\"890\">lemonade.</tspan>\n",
       "    <tspan class=\"displacy-tag\" dy=\"2em\" fill=\"currentColor\" x=\"890\">NOUN</tspan>\n",
       "</text>\n",
       "\n",
       "<g class=\"displacy-arrow\">\n",
       "    <path class=\"displacy-arc\" id=\"arrow-cb8cfa0c6b4246409e0a62484d09c3c1-0-0\" stroke-width=\"2px\" d=\"M70,182.0 C70,122.0 160.0,122.0 160.0,182.0\" fill=\"none\" stroke=\"currentColor\"/>\n",
       "    <text dy=\"1.25em\" style=\"font-size: 0.8em; letter-spacing: 1px\">\n",
       "        <textPath xlink:href=\"#arrow-cb8cfa0c6b4246409e0a62484d09c3c1-0-0\" class=\"displacy-label\" startOffset=\"50%\" side=\"left\" fill=\"currentColor\" text-anchor=\"middle\">det</textPath>\n",
       "    </text>\n",
       "    <path class=\"displacy-arrowhead\" d=\"M70,184.0 L62,172.0 78,172.0\" fill=\"currentColor\"/>\n",
       "</g>\n",
       "\n",
       "<g class=\"displacy-arrow\">\n",
       "    <path class=\"displacy-arc\" id=\"arrow-cb8cfa0c6b4246409e0a62484d09c3c1-0-1\" stroke-width=\"2px\" d=\"M190,182.0 C190,2.0 530.0,2.0 530.0,182.0\" fill=\"none\" stroke=\"currentColor\"/>\n",
       "    <text dy=\"1.25em\" style=\"font-size: 0.8em; letter-spacing: 1px\">\n",
       "        <textPath xlink:href=\"#arrow-cb8cfa0c6b4246409e0a62484d09c3c1-0-1\" class=\"displacy-label\" startOffset=\"50%\" side=\"left\" fill=\"currentColor\" text-anchor=\"middle\">nsubj</textPath>\n",
       "    </text>\n",
       "    <path class=\"displacy-arrowhead\" d=\"M190,184.0 L182,172.0 198,172.0\" fill=\"currentColor\"/>\n",
       "</g>\n",
       "\n",
       "<g class=\"displacy-arrow\">\n",
       "    <path class=\"displacy-arc\" id=\"arrow-cb8cfa0c6b4246409e0a62484d09c3c1-0-2\" stroke-width=\"2px\" d=\"M310,182.0 C310,62.0 525.0,62.0 525.0,182.0\" fill=\"none\" stroke=\"currentColor\"/>\n",
       "    <text dy=\"1.25em\" style=\"font-size: 0.8em; letter-spacing: 1px\">\n",
       "        <textPath xlink:href=\"#arrow-cb8cfa0c6b4246409e0a62484d09c3c1-0-2\" class=\"displacy-label\" startOffset=\"50%\" side=\"left\" fill=\"currentColor\" text-anchor=\"middle\">aux</textPath>\n",
       "    </text>\n",
       "    <path class=\"displacy-arrowhead\" d=\"M310,184.0 L302,172.0 318,172.0\" fill=\"currentColor\"/>\n",
       "</g>\n",
       "\n",
       "<g class=\"displacy-arrow\">\n",
       "    <path class=\"displacy-arc\" id=\"arrow-cb8cfa0c6b4246409e0a62484d09c3c1-0-3\" stroke-width=\"2px\" d=\"M430,182.0 C430,122.0 520.0,122.0 520.0,182.0\" fill=\"none\" stroke=\"currentColor\"/>\n",
       "    <text dy=\"1.25em\" style=\"font-size: 0.8em; letter-spacing: 1px\">\n",
       "        <textPath xlink:href=\"#arrow-cb8cfa0c6b4246409e0a62484d09c3c1-0-3\" class=\"displacy-label\" startOffset=\"50%\" side=\"left\" fill=\"currentColor\" text-anchor=\"middle\">neg</textPath>\n",
       "    </text>\n",
       "    <path class=\"displacy-arrowhead\" d=\"M430,184.0 L422,172.0 438,172.0\" fill=\"currentColor\"/>\n",
       "</g>\n",
       "\n",
       "<g class=\"displacy-arrow\">\n",
       "    <path class=\"displacy-arc\" id=\"arrow-cb8cfa0c6b4246409e0a62484d09c3c1-0-4\" stroke-width=\"2px\" d=\"M550,182.0 C550,122.0 640.0,122.0 640.0,182.0\" fill=\"none\" stroke=\"currentColor\"/>\n",
       "    <text dy=\"1.25em\" style=\"font-size: 0.8em; letter-spacing: 1px\">\n",
       "        <textPath xlink:href=\"#arrow-cb8cfa0c6b4246409e0a62484d09c3c1-0-4\" class=\"displacy-label\" startOffset=\"50%\" side=\"left\" fill=\"currentColor\" text-anchor=\"middle\">xcomp</textPath>\n",
       "    </text>\n",
       "    <path class=\"displacy-arrowhead\" d=\"M640.0,184.0 L648.0,172.0 632.0,172.0\" fill=\"currentColor\"/>\n",
       "</g>\n",
       "\n",
       "<g class=\"displacy-arrow\">\n",
       "    <path class=\"displacy-arc\" id=\"arrow-cb8cfa0c6b4246409e0a62484d09c3c1-0-5\" stroke-width=\"2px\" d=\"M790,182.0 C790,122.0 880.0,122.0 880.0,182.0\" fill=\"none\" stroke=\"currentColor\"/>\n",
       "    <text dy=\"1.25em\" style=\"font-size: 0.8em; letter-spacing: 1px\">\n",
       "        <textPath xlink:href=\"#arrow-cb8cfa0c6b4246409e0a62484d09c3c1-0-5\" class=\"displacy-label\" startOffset=\"50%\" side=\"left\" fill=\"currentColor\" text-anchor=\"middle\">det</textPath>\n",
       "    </text>\n",
       "    <path class=\"displacy-arrowhead\" d=\"M790,184.0 L782,172.0 798,172.0\" fill=\"currentColor\"/>\n",
       "</g>\n",
       "\n",
       "<g class=\"displacy-arrow\">\n",
       "    <path class=\"displacy-arc\" id=\"arrow-cb8cfa0c6b4246409e0a62484d09c3c1-0-6\" stroke-width=\"2px\" d=\"M670,182.0 C670,62.0 885.0,62.0 885.0,182.0\" fill=\"none\" stroke=\"currentColor\"/>\n",
       "    <text dy=\"1.25em\" style=\"font-size: 0.8em; letter-spacing: 1px\">\n",
       "        <textPath xlink:href=\"#arrow-cb8cfa0c6b4246409e0a62484d09c3c1-0-6\" class=\"displacy-label\" startOffset=\"50%\" side=\"left\" fill=\"currentColor\" text-anchor=\"middle\">dobj</textPath>\n",
       "    </text>\n",
       "    <path class=\"displacy-arrowhead\" d=\"M885.0,184.0 L893.0,172.0 877.0,172.0\" fill=\"currentColor\"/>\n",
       "</g>\n",
       "</svg></span>"
      ],
      "text/plain": [
       "<IPython.core.display.HTML object>"
      ]
     },
     "metadata": {},
     "output_type": "display_data"
    }
   ],
   "source": [
    "print (\"{:<15} | {:<8} | {:<15} | {:<20}\".format('Token','Relation','Head', 'Children'))\n",
    "print (\"-\" * 70)\n",
    "\n",
    "for token in doc:\n",
    "  # Print the token, dependency nature, head and all dependents of the token\n",
    "  print (\"{:<15} | {:<8} | {:<15} | {:<20}\"\n",
    "         .format(str(token.text), str(token.dep_), str(token.head.text), str([child for child in token.children])))\n",
    "\n",
    "# Use displayCy to visualize the dependency \n",
    "displacy.render(doc, style='dep', jupyter=True, options={'distance': 120})"
   ]
  },
  {
   "cell_type": "markdown",
   "id": "8eaefa87",
   "metadata": {},
   "source": [
    "#### Using stanza (Neural network based approach)"
   ]
  },
  {
   "cell_type": "code",
   "execution_count": 14,
   "id": "4711f208",
   "metadata": {},
   "outputs": [
    {
     "data": {
      "application/vnd.jupyter.widget-view+json": {
       "model_id": "6fce74ff37d14f8d8e505358edf226c9",
       "version_major": 2,
       "version_minor": 0
      },
      "text/plain": [
       "Downloading https://raw.githubusercontent.com/stanfordnlp/stanza-resources/main/resources_1.6.0.json:   0%|   …"
      ]
     },
     "metadata": {},
     "output_type": "display_data"
    },
    {
     "name": "stderr",
     "output_type": "stream",
     "text": [
      "2023-11-03 13:26:48 INFO: Downloading default packages for language: en (English) ...\n"
     ]
    },
    {
     "data": {
      "application/vnd.jupyter.widget-view+json": {
       "model_id": "0849606ff2404cb9881637b66fd9182c",
       "version_major": 2,
       "version_minor": 0
      },
      "text/plain": [
       "Downloading https://huggingface.co/stanfordnlp/stanza-en/resolve/v1.6.0/models/default.zip:   0%|          | 0…"
      ]
     },
     "metadata": {},
     "output_type": "display_data"
    },
    {
     "name": "stderr",
     "output_type": "stream",
     "text": [
      "2023-11-03 13:27:28 INFO: Finished downloading models and saved to /Users/adityasingh/stanza_resources.\n"
     ]
    }
   ],
   "source": [
    "import stanza\n",
    "stanza.download('en')"
   ]
  },
  {
   "cell_type": "code",
   "execution_count": 15,
   "id": "63418cce",
   "metadata": {},
   "outputs": [
    {
     "name": "stderr",
     "output_type": "stream",
     "text": [
      "2023-11-03 13:27:49 INFO: Checking for updates to resources.json in case models have been updated.  Note: this behavior can be turned off with download_method=None or download_method=DownloadMethod.REUSE_RESOURCES\n"
     ]
    },
    {
     "data": {
      "application/vnd.jupyter.widget-view+json": {
       "model_id": "7869123c0ae5465d8f96dd9467c6822b",
       "version_major": 2,
       "version_minor": 0
      },
      "text/plain": [
       "Downloading https://raw.githubusercontent.com/stanfordnlp/stanza-resources/main/resources_1.6.0.json:   0%|   …"
      ]
     },
     "metadata": {},
     "output_type": "display_data"
    },
    {
     "name": "stderr",
     "output_type": "stream",
     "text": [
      "2023-11-03 13:27:49 WARNING: Can not find mwt: default from official model list. Ignoring it.\n",
      "2023-11-03 13:27:50 INFO: Loading these models for language: en (English):\n",
      "=================================\n",
      "| Processor | Package           |\n",
      "---------------------------------\n",
      "| tokenize  | combined          |\n",
      "| pos       | combined_charlm   |\n",
      "| lemma     | combined_nocharlm |\n",
      "| depparse  | combined_charlm   |\n",
      "=================================\n",
      "\n",
      "2023-11-03 13:27:50 INFO: Using device: cpu\n",
      "2023-11-03 13:27:50 INFO: Loading: tokenize\n",
      "2023-11-03 13:27:50 INFO: Loading: pos\n",
      "2023-11-03 13:27:51 INFO: Loading: lemma\n",
      "2023-11-03 13:27:51 INFO: Loading: depparse\n",
      "2023-11-03 13:27:51 INFO: Done loading processors!\n"
     ]
    }
   ],
   "source": [
    "nlp = stanza.Pipeline('en', processors = 'tokenize,mwt,pos,lemma,depparse')"
   ]
  },
  {
   "cell_type": "code",
   "execution_count": 16,
   "id": "d07c18b5",
   "metadata": {},
   "outputs": [],
   "source": [
    "doc = nlp(sentence)"
   ]
  },
  {
   "cell_type": "code",
   "execution_count": 17,
   "id": "bef387d5",
   "metadata": {},
   "outputs": [
    {
     "data": {
      "text/plain": [
       "[[\n",
       "   {\n",
       "     \"id\": 1,\n",
       "     \"text\": \"The\",\n",
       "     \"lemma\": \"the\",\n",
       "     \"upos\": \"DET\",\n",
       "     \"xpos\": \"DT\",\n",
       "     \"feats\": \"Definite=Def|PronType=Art\",\n",
       "     \"head\": 2,\n",
       "     \"deprel\": \"det\",\n",
       "     \"start_char\": 0,\n",
       "     \"end_char\": 3\n",
       "   },\n",
       "   {\n",
       "     \"id\": 2,\n",
       "     \"text\": \"llama\",\n",
       "     \"lemma\": \"llama\",\n",
       "     \"upos\": \"NOUN\",\n",
       "     \"xpos\": \"NN\",\n",
       "     \"feats\": \"Number=Sing\",\n",
       "     \"head\": 5,\n",
       "     \"deprel\": \"nsubj\",\n",
       "     \"start_char\": 4,\n",
       "     \"end_char\": 9\n",
       "   },\n",
       "   {\n",
       "     \"id\": 3,\n",
       "     \"text\": \"could\",\n",
       "     \"lemma\": \"could\",\n",
       "     \"upos\": \"AUX\",\n",
       "     \"xpos\": \"MD\",\n",
       "     \"feats\": \"VerbForm=Fin\",\n",
       "     \"head\": 5,\n",
       "     \"deprel\": \"aux\",\n",
       "     \"start_char\": 10,\n",
       "     \"end_char\": 15\n",
       "   },\n",
       "   {\n",
       "     \"id\": 4,\n",
       "     \"text\": \"n't\",\n",
       "     \"lemma\": \"not\",\n",
       "     \"upos\": \"PART\",\n",
       "     \"xpos\": \"RB\",\n",
       "     \"head\": 5,\n",
       "     \"deprel\": \"advmod\",\n",
       "     \"start_char\": 15,\n",
       "     \"end_char\": 18\n",
       "   },\n",
       "   {\n",
       "     \"id\": 5,\n",
       "     \"text\": \"resist\",\n",
       "     \"lemma\": \"resist\",\n",
       "     \"upos\": \"VERB\",\n",
       "     \"xpos\": \"VB\",\n",
       "     \"feats\": \"VerbForm=Inf\",\n",
       "     \"head\": 0,\n",
       "     \"deprel\": \"root\",\n",
       "     \"start_char\": 19,\n",
       "     \"end_char\": 25\n",
       "   },\n",
       "   {\n",
       "     \"id\": 6,\n",
       "     \"text\": \"trying\",\n",
       "     \"lemma\": \"try\",\n",
       "     \"upos\": \"VERB\",\n",
       "     \"xpos\": \"VBG\",\n",
       "     \"feats\": \"VerbForm=Ger\",\n",
       "     \"head\": 5,\n",
       "     \"deprel\": \"xcomp\",\n",
       "     \"start_char\": 26,\n",
       "     \"end_char\": 32\n",
       "   },\n",
       "   {\n",
       "     \"id\": 7,\n",
       "     \"text\": \"the\",\n",
       "     \"lemma\": \"the\",\n",
       "     \"upos\": \"DET\",\n",
       "     \"xpos\": \"DT\",\n",
       "     \"feats\": \"Definite=Def|PronType=Art\",\n",
       "     \"head\": 8,\n",
       "     \"deprel\": \"det\",\n",
       "     \"start_char\": 33,\n",
       "     \"end_char\": 36\n",
       "   },\n",
       "   {\n",
       "     \"id\": 8,\n",
       "     \"text\": \"lemonade\",\n",
       "     \"lemma\": \"lemonade\",\n",
       "     \"upos\": \"NOUN\",\n",
       "     \"xpos\": \"NN\",\n",
       "     \"feats\": \"Number=Sing\",\n",
       "     \"head\": 6,\n",
       "     \"deprel\": \"obj\",\n",
       "     \"start_char\": 37,\n",
       "     \"end_char\": 45\n",
       "   },\n",
       "   {\n",
       "     \"id\": 9,\n",
       "     \"text\": \".\",\n",
       "     \"lemma\": \".\",\n",
       "     \"upos\": \"PUNCT\",\n",
       "     \"xpos\": \".\",\n",
       "     \"head\": 5,\n",
       "     \"deprel\": \"punct\",\n",
       "     \"start_char\": 45,\n",
       "     \"end_char\": 46\n",
       "   }\n",
       " ]]"
      ]
     },
     "execution_count": 17,
     "metadata": {},
     "output_type": "execute_result"
    }
   ],
   "source": [
    "doc.sentences"
   ]
  },
  {
   "cell_type": "code",
   "execution_count": 18,
   "id": "e5d60756",
   "metadata": {},
   "outputs": [
    {
     "name": "stdout",
     "output_type": "stream",
     "text": [
      "('The', 2, 'det')\n",
      "('llama', 5, 'nsubj')\n",
      "('could', 5, 'aux')\n",
      "(\"n't\", 5, 'advmod')\n",
      "('resist', 0, 'root')\n",
      "('trying', 5, 'xcomp')\n",
      "('the', 8, 'det')\n",
      "('lemonade', 6, 'obj')\n",
      "('.', 5, 'punct')\n"
     ]
    }
   ],
   "source": [
    "doc.sentences[0].print_dependencies()"
   ]
  },
  {
   "cell_type": "code",
   "execution_count": 19,
   "id": "eafe23d8",
   "metadata": {},
   "outputs": [
    {
     "name": "stdout",
     "output_type": "stream",
     "text": [
      "Token           | Relation   | Head            \n",
      "--------------------------------------------------\n",
      "The             | det        | llama           \n",
      "llama           | nsubj      | resist          \n",
      "could           | aux        | resist          \n",
      "n't             | advmod     | resist          \n",
      "resist          | root       | ROOT            \n",
      "trying          | xcomp      | resist          \n",
      "the             | det        | lemonade        \n",
      "lemonade        | obj        | trying          \n",
      ".               | punct      | resist          \n"
     ]
    }
   ],
   "source": [
    "print (\"{:<15} | {:<10} | {:<15} \".format('Token', 'Relation', 'Head'))\n",
    "print (\"-\" * 50)\n",
    "  \n",
    "# Convert sentence object to dictionary  \n",
    "sent_dict = doc.sentences[0].to_dict()\n",
    "\n",
    "# iterate to print the token, relation and head\n",
    "for word in sent_dict:\n",
    "  print (\"{:<15} | {:<10} | {:<15} \"\n",
    "         .format(str(word['text']),str(word['deprel']), str(sent_dict[word['head']-1]['text'] if word['head'] > 0 else 'ROOT')))"
   ]
  },
  {
   "cell_type": "code",
   "execution_count": null,
   "id": "39627d5a",
   "metadata": {},
   "outputs": [],
   "source": []
  }
 ],
 "metadata": {
  "kernelspec": {
   "display_name": "Python 3 (ipykernel)",
   "language": "python",
   "name": "python3"
  },
  "language_info": {
   "codemirror_mode": {
    "name": "ipython",
    "version": 3
   },
   "file_extension": ".py",
   "mimetype": "text/x-python",
   "name": "python",
   "nbconvert_exporter": "python",
   "pygments_lexer": "ipython3",
   "version": "3.9.7"
  }
 },
 "nbformat": 4,
 "nbformat_minor": 5
}
